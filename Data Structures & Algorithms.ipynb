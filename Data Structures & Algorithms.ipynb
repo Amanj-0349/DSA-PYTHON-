{
 "cells": [
  {
   "cell_type": "markdown",
   "id": "59bdb708",
   "metadata": {},
   "source": [
    "##### count the no of digits - 5873 \n",
    "---- then count should be 4"
   ]
  },
  {
   "cell_type": "code",
   "execution_count": 1,
   "id": "86cc2a87",
   "metadata": {},
   "outputs": [
    {
     "name": "stdout",
     "output_type": "stream",
     "text": [
      "4\n"
     ]
    }
   ],
   "source": [
    "'''for this problem my approach would be extraction of the digits\n",
    "like n=5873\n",
    "\n",
    "take num = n\n",
    "then if i do num//10 it would give me 587 and if i do it so on finally i would get 0\n",
    "while doing this i will count how many times the loop runs\n",
    "'''\n",
    "\n",
    "n=5873\n",
    "count = 0\n",
    "num = n\n",
    "while num>0:\n",
    "    count+=1\n",
    "    num =num //10  # i have used this to extract the integer part like 587,58,5\n",
    "print(count)\n",
    "\n",
    "# time complexity : O(log10(n))\n",
    "# space complexity : O(1)\n",
    "    "
   ]
  },
  {
   "cell_type": "code",
   "execution_count": 2,
   "id": "5bf1accf",
   "metadata": {},
   "outputs": [
    {
     "name": "stdout",
     "output_type": "stream",
     "text": [
      "4\n"
     ]
    }
   ],
   "source": [
    "# Another way to solve this \n",
    "from math import *\n",
    "print(int(log10(5873)+1))"
   ]
  },
  {
   "cell_type": "markdown",
   "id": "6bb0ecd5",
   "metadata": {},
   "source": [
    "##### check palindrome (from both side if i read it would be same) -1234 "
   ]
  },
  {
   "cell_type": "code",
   "execution_count": 3,
   "id": "372dd72a",
   "metadata": {},
   "outputs": [
    {
     "name": "stdout",
     "output_type": "stream",
     "text": [
      "The given no is palindrome\n"
     ]
    }
   ],
   "source": [
    "'''for this question we can first convert the given integer into the string but this is not the best\n",
    "way to do it \n",
    "\n",
    "so for this we use digit extraction method \n",
    "'''\n",
    "n = 121\n",
    "num = n\n",
    "res = 0\n",
    "while num >0:\n",
    "    id = num % 10 \n",
    "    res = res*10 + id\n",
    "    num = num //10\n",
    "    \n",
    "if  n == res:\n",
    "    print('The given no is palindrome')\n",
    "else:\n",
    "    print('not a palindrone')\n",
    "    \n",
    "# time complexity : O(log10(n))\n",
    "# space complexity : O(1)"
   ]
  },
  {
   "cell_type": "markdown",
   "id": "cf86eb6e",
   "metadata": {},
   "source": [
    "##### check whether the no is armstrong or not \n",
    "--- like 153 - 1^3+5^3+3^3 = 1+125+27 = 153 "
   ]
  },
  {
   "cell_type": "code",
   "execution_count": 4,
   "id": "32e50144",
   "metadata": {},
   "outputs": [
    {
     "name": "stdout",
     "output_type": "stream",
     "text": [
      "the no is armstrong\n"
     ]
    }
   ],
   "source": [
    "''' the same method i have used here extraction of digit '''\n",
    "\n",
    "n = 153\n",
    "num  = n\n",
    "res = 0\n",
    "while num>0:\n",
    "    id= num % 10 \n",
    "    res = res + id**3\n",
    "    num = num //10\n",
    "if res == n:\n",
    "    print('the no is armstrong')\n",
    "else:\n",
    "    print('not a armstrong no')\n",
    "\n",
    "    ''' but this method is not suitable for no like 1634 so its no the correct approach'''"
   ]
  },
  {
   "cell_type": "code",
   "execution_count": 5,
   "id": "d4bcff7e",
   "metadata": {},
   "outputs": [
    {
     "name": "stdout",
     "output_type": "stream",
     "text": [
      "the no is armstrong no\n"
     ]
    }
   ],
   "source": [
    "n = 1634\n",
    "num =n \n",
    "total = 0\n",
    "l = len(str(n))\n",
    "'''by calculating the length of the given no we can optimze our code '''\n",
    "while num >0:\n",
    "    id=num %10\n",
    "    total = total +id**l\n",
    "    num = num //10\n",
    "if total == n:\n",
    "    print(\"the no is armstrong no\")\n",
    "else:\n",
    "    print('not a armstrong no')\n",
    "\n",
    "    ''' time complexity : O(log10(n))\n",
    "    space complexity : O(1)\n",
    "    '''"
   ]
  },
  {
   "cell_type": "markdown",
   "id": "ba96ab16",
   "metadata": {},
   "source": [
    "##### PRINT ALL THE FACTORS OF A GIVEN NUMBER \n",
    "--- 36 = [1,2,3,4,6,9,12,18,36]"
   ]
  },
  {
   "cell_type": "code",
   "execution_count": 6,
   "id": "f442c328",
   "metadata": {},
   "outputs": [
    {
     "name": "stdout",
     "output_type": "stream",
     "text": [
      "[1, 2, 3, 4, 6, 9, 12, 18, 36]\n"
     ]
    },
    {
     "data": {
      "text/plain": [
       "'time compl : O(n) \\nspace compl: O(k) because we used extra space'"
      ]
     },
     "execution_count": 6,
     "metadata": {},
     "output_type": "execute_result"
    }
   ],
   "source": [
    "'''first approach '''\n",
    "n= 36\n",
    "num = n\n",
    "res = []\n",
    "for i in range(1,num+1):\n",
    "    if num % i == 0:\n",
    "        res.append(i)\n",
    "print(res)\n",
    "\n",
    "'''time compl : O(n) \n",
    "space compl: O(k) because we used extra space'''"
   ]
  },
  {
   "cell_type": "code",
   "execution_count": 7,
   "id": "1f890fd7",
   "metadata": {},
   "outputs": [
    {
     "name": "stdout",
     "output_type": "stream",
     "text": [
      "[1, 2, 3, 4, 6, 9, 12, 36]\n"
     ]
    },
    {
     "data": {
      "text/plain": [
       "'time comple: O(n/2) or O(n) bcz we can ignore the constant 1/2 \\nspace compl : O(k) using extra space'"
      ]
     },
     "execution_count": 7,
     "metadata": {},
     "output_type": "execute_result"
    }
   ],
   "source": [
    "'''better approach  - we know that the factors of any no will lie before its halfed value or that no itself'''\n",
    "\n",
    "n=36\n",
    "num =n\n",
    "res = []\n",
    "for i in range(1,num//2):\n",
    "    if num %i==0:\n",
    "        res.append(i)\n",
    "res.append(n)\n",
    "print(res)\n",
    "\n",
    "'''time comple: O(n/2) or O(n) bcz we can ignore the constant 1/2 \n",
    "space compl : O(k) using extra space'''\n"
   ]
  },
  {
   "cell_type": "markdown",
   "id": "0cc381a8",
   "metadata": {},
   "source": [
    "##### frequency map dictionary  [METHOD THAT WE ARE USING FOR MULTIPLE QUESTION ]"
   ]
  },
  {
   "cell_type": "code",
   "execution_count": 8,
   "id": "71d58367",
   "metadata": {},
   "outputs": [
    {
     "name": "stdout",
     "output_type": "stream",
     "text": [
      "{6: 4, 7: 1, 1: 4, 2: 2, 5: 2, 8: 2}\n"
     ]
    },
    {
     "data": {
      "text/plain": [
       "'time compl : O(n)\\nspace compl : O(n) '"
      ]
     },
     "execution_count": 8,
     "metadata": {},
     "output_type": "execute_result"
    }
   ],
   "source": [
    "nums = [5 , 6 , 6 , 7 , 1 ,  2 , 2 , 6 , 5 , 1 , 1 ,5 , 6 , 8 , 1, 8]\n",
    "\n",
    "freq = dict()\n",
    "for i in range(1,len(nums)):\n",
    "    if nums[i] in freq :\n",
    "        freq[nums[i]]+=1\n",
    "    else:\n",
    "        freq[nums[i]]=1\n",
    "print(freq)\n",
    "\n",
    "'''time compl : O(n)\n",
    "space compl : O(n) '''"
   ]
  },
  {
   "cell_type": "code",
   "execution_count": 9,
   "id": "d2b87227",
   "metadata": {},
   "outputs": [
    {
     "name": "stdout",
     "output_type": "stream",
     "text": [
      "{6: 4, 7: 1, 1: 4, 2: 2, 5: 2, 8: 2}\n"
     ]
    },
    {
     "data": {
      "text/plain": [
       "'time and space complexity will  be O(n)'"
      ]
     },
     "execution_count": 9,
     "metadata": {},
     "output_type": "execute_result"
    }
   ],
   "source": [
    "''' here is one more optimal approach that we are using evertime when we are working on freq'''\n",
    "nums = [5 , 6 , 6 , 7 , 1 ,  2 , 2 , 6 , 5 , 1 , 1 ,5 , 6 , 8 , 1, 8]\n",
    "\n",
    "hash_map = dict()\n",
    "for i in range(1,len(nums)):\n",
    "    hash_map[nums[i]] = hash_map.get(nums[i],0)+1\n",
    "print(hash_map)\n",
    "\n",
    "'''time and space complexity will  be O(n)'''"
   ]
  },
  {
   "cell_type": "markdown",
   "id": "4f1b9d8e",
   "metadata": {},
   "source": [
    "#####  find factorial of a given number "
   ]
  },
  {
   "cell_type": "code",
   "execution_count": 10,
   "id": "0ca5b0de",
   "metadata": {},
   "outputs": [
    {
     "name": "stdout",
     "output_type": "stream",
     "text": [
      "120\n"
     ]
    }
   ],
   "source": [
    "# 5! = 5*4*3*2*1 = 120\n",
    "\n",
    "def fact(n):\n",
    "    fact =1\n",
    "    if n==0 or n==1:\n",
    "        return 1\n",
    "    for i in range(1,n+1):\n",
    "        fact = fact * i\n",
    "    return fact\n",
    "ans = fact(5)\n",
    "print(ans)      "
   ]
  },
  {
   "cell_type": "code",
   "execution_count": 11,
   "id": "02ba2f51",
   "metadata": {},
   "outputs": [
    {
     "name": "stdout",
     "output_type": "stream",
     "text": [
      "120\n"
     ]
    },
    {
     "data": {
      "text/plain": [
       "'time compl = O(n)\\nspace compl : O(n) bcz using stack space'"
      ]
     },
     "execution_count": 11,
     "metadata": {},
     "output_type": "execute_result"
    }
   ],
   "source": [
    "'''doing this with the help of recursion '''\n",
    "def fact(n):\n",
    "    if n==0 or n==1:\n",
    "        return 1\n",
    "    return n * fact(n-1)\n",
    "ans = fact(5)\n",
    "print(ans)\n",
    "\n",
    "'''time compl = O(n)\n",
    "space compl : O(n) bcz using stack space'''"
   ]
  },
  {
   "cell_type": "markdown",
   "id": "dbe37273",
   "metadata": {},
   "source": [
    "#### check if a string is palindrone or not "
   ]
  },
  {
   "cell_type": "code",
   "execution_count": 12,
   "id": "c7c259a0",
   "metadata": {},
   "outputs": [
    {
     "name": "stdout",
     "output_type": "stream",
     "text": [
      "its palindrone\n"
     ]
    }
   ],
   "source": [
    "# doing through slicing\n",
    "def pal(s):\n",
    "    v=s[::-1]\n",
    "    if s==v:\n",
    "        print('its palindrone')\n",
    "pal('nitin')"
   ]
  },
  {
   "cell_type": "code",
   "execution_count": 13,
   "id": "81720153",
   "metadata": {},
   "outputs": [
    {
     "data": {
      "text/plain": [
       "True"
      ]
     },
     "execution_count": 13,
     "metadata": {},
     "output_type": "execute_result"
    }
   ],
   "source": [
    "def fun(s,l,r):\n",
    "    if l>=r:\n",
    "        return True\n",
    "    if s[l]!=s[r]:\n",
    "        return False\n",
    "    return fun(s,l+1,r-1)\n",
    "        \n",
    "s='nitin'\n",
    "r=len(s)-1\n",
    "l=0\n",
    "fun(s,l,r)\n",
    "# time : O(n) , space : O(1)"
   ]
  },
  {
   "cell_type": "markdown",
   "id": "6cc89896",
   "metadata": {},
   "source": [
    "#### find the fibonacci number using recursion"
   ]
  },
  {
   "cell_type": "code",
   "execution_count": 14,
   "id": "13240bcb",
   "metadata": {},
   "outputs": [
    {
     "name": "stdout",
     "output_type": "stream",
     "text": [
      "8\n"
     ]
    }
   ],
   "source": [
    "'''0 1 1 2 3 5 8 13 21 34....\n",
    " base idea h f(0),f(1) - 0,1\n",
    " recursive idea h ki f(n) = f(n-1)+f(n-2)'''\n",
    "\n",
    "def fibo(n):\n",
    "    if n ==0 or n==1:\n",
    "        return n\n",
    "    return fibo(n-1)+fibo(n-2)\n",
    "res = fibo(6)\n",
    "print(res)\n",
    "\n",
    "# time compl : O(2^n)\n",
    "# space compl : O(2^n)\n",
    "#sbse pehle n-1 vala solve hoga "
   ]
  },
  {
   "cell_type": "markdown",
   "id": "a4a1bb99",
   "metadata": {},
   "source": [
    "##### find the largest element in the array"
   ]
  },
  {
   "cell_type": "code",
   "execution_count": 15,
   "id": "16338764",
   "metadata": {},
   "outputs": [
    {
     "name": "stdout",
     "output_type": "stream",
     "text": [
      "the largest element is : 56\n"
     ]
    }
   ],
   "source": [
    "arr = [1,25,23,14,56,-73]\n",
    "lar = 0\n",
    "for i in arr:\n",
    "    if i>lar:\n",
    "        lar=i\n",
    "print('the largest element is :',lar)"
   ]
  },
  {
   "cell_type": "markdown",
   "id": "e628d1b6",
   "metadata": {},
   "source": [
    "##### find the second largest element in the array"
   ]
  },
  {
   "cell_type": "code",
   "execution_count": 16,
   "id": "848ac855",
   "metadata": {},
   "outputs": [
    {
     "name": "stdout",
     "output_type": "stream",
     "text": [
      "25\n"
     ]
    }
   ],
   "source": [
    "# brute force approach\n",
    "arr = [1,25,23,14,56,-73]\n",
    "arr.sort()\n",
    "print(arr[-2])\n",
    "\n",
    "# timecomplexity - O(nlogn) bcz sort ka hota h nlogn\n",
    "# space complexity - O(1)"
   ]
  },
  {
   "cell_type": "markdown",
   "id": "48aec366",
   "metadata": {},
   "source": [
    "##### check if the array is sorted or not"
   ]
  },
  {
   "cell_type": "code",
   "execution_count": 17,
   "id": "6a1ffcf4",
   "metadata": {},
   "outputs": [
    {
     "data": {
      "text/plain": [
       "True"
      ]
     },
     "execution_count": 17,
     "metadata": {},
     "output_type": "execute_result"
    }
   ],
   "source": [
    "arr = [1,2,3,4,5,6,7,8]\n",
    "\n",
    "def check(arr):\n",
    "    n=len(arr)\n",
    "    for i in range(0,n-1):\n",
    "        if arr[i]>arr[i+1]:\n",
    "            return False\n",
    "    return True\n",
    "\n",
    "check(arr)\n",
    "\n",
    "# time : O(n)\n",
    "# space : O(1)"
   ]
  },
  {
   "cell_type": "markdown",
   "id": "0d07d875",
   "metadata": {},
   "source": [
    "# sorting techniques"
   ]
  },
  {
   "cell_type": "markdown",
   "id": "b166ad0e",
   "metadata": {},
   "source": [
    "#### selection sort "
   ]
  },
  {
   "cell_type": "code",
   "execution_count": 18,
   "id": "db62eb5e",
   "metadata": {},
   "outputs": [
    {
     "name": "stdout",
     "output_type": "stream",
     "text": [
      "[1, 3, 4, 5, 6, 8, 10, 20]\n"
     ]
    }
   ],
   "source": [
    "# selection sort - we have to select the minimum value at each iteration (ascending order)\n",
    "\n",
    "nums = [1,10,20,3,4,5,6,8]\n",
    "\n",
    "def selection_sort(nums):\n",
    "    n=len(nums)\n",
    "    for i in range(n):\n",
    "        min_index = i\n",
    "        for j in range(i+1,n):\n",
    "            if nums[j]<nums[min_index]:\n",
    "                min_index=j\n",
    "        nums[i],nums[min_index]=nums[min_index],nums[i]\n",
    "    return nums\n",
    "\n",
    "res = selection_sort(nums)\n",
    "print(res)\n",
    "\n",
    "# time  :O(n*2)\n",
    "# space : O(1)\n"
   ]
  },
  {
   "cell_type": "code",
   "execution_count": 19,
   "id": "15c5e797",
   "metadata": {},
   "outputs": [
    {
     "name": "stdout",
     "output_type": "stream",
     "text": [
      "[30, 20, 10, 6, 5, 1]\n"
     ]
    }
   ],
   "source": [
    "# selection sort for descending order\n",
    "\n",
    "def selection_sort_desc(arr):\n",
    "    n=len(arr)\n",
    "    for i in range(n):\n",
    "        max_index=i\n",
    "        for j in range(i+1,n):\n",
    "            if arr[j]>arr[max_index]:\n",
    "                max_index = j\n",
    "        arr[i],arr[max_index] = arr[max_index],arr[i]\n",
    "    return arr\n",
    "\n",
    "arr = [1,20,30,5,6,10]\n",
    "res = selection_sort_desc(arr)\n",
    "print(arr)"
   ]
  },
  {
   "cell_type": "markdown",
   "id": "895f1ac2",
   "metadata": {},
   "source": [
    "#### Bubble sort"
   ]
  },
  {
   "cell_type": "code",
   "execution_count": 20,
   "id": "5523f120",
   "metadata": {},
   "outputs": [
    {
     "name": "stdout",
     "output_type": "stream",
     "text": [
      "[1, 3, 4, 5, 6, 8, 10, 20]\n"
     ]
    },
    {
     "data": {
      "text/plain": [
       "'but in the case when array is already sorted then time compl : O(n) and space complexity remains same O(1)'"
      ]
     },
     "execution_count": 20,
     "metadata": {},
     "output_type": "execute_result"
    }
   ],
   "source": [
    "def bubble_sort(arr):\n",
    "    n=len(arr)\n",
    "    is_swap = False\n",
    "    for i in range(n-2,-1,-1):\n",
    "        for j in range(0,i+1):\n",
    "            if arr[j]>arr[j+1]:\n",
    "                arr[j],arr[j+1]= arr[j+1],arr[j]\n",
    "                is_swap = True\n",
    "    if is_swap == False:\n",
    "        return\n",
    "    return arr\n",
    "    \n",
    "n = bubble_sort([1,10,20,3,4,5,6,8]) \n",
    "print(n)\n",
    "\n",
    "# time : O(n*2)\n",
    "# space :O(1)\n",
    "\n",
    "'''but in the case when array is already sorted then time compl : O(n) and space complexity remains same O(1)'''"
   ]
  },
  {
   "cell_type": "code",
   "execution_count": 21,
   "id": "b020e1a4",
   "metadata": {},
   "outputs": [
    {
     "name": "stdout",
     "output_type": "stream",
     "text": [
      "[20, 10, 8, 6, 5, 4, 3, 1]\n"
     ]
    }
   ],
   "source": [
    "def bubble_sort(arr):\n",
    "    n=len(arr)\n",
    "    is_swap = False\n",
    "    for i in range(n-2,-1,-1):\n",
    "        for j in range(0,i+1):\n",
    "            if arr[j]<arr[j+1]:\n",
    "                arr[j],arr[j+1]= arr[j+1],arr[j]\n",
    "                is_swap = True\n",
    "    if is_swap == False:\n",
    "        return\n",
    "    return arr\n",
    "    \n",
    "n = bubble_sort([1,10,20,3,4,5,6,8]) \n",
    "print(n)"
   ]
  },
  {
   "cell_type": "markdown",
   "id": "d538e1c4",
   "metadata": {},
   "source": [
    "#### insertion sort"
   ]
  },
  {
   "cell_type": "code",
   "execution_count": 22,
   "id": "20fc38c1",
   "metadata": {},
   "outputs": [
    {
     "name": "stdout",
     "output_type": "stream",
     "text": [
      "[1, 3, 4, 5, 6, 8, 10, 20]\n"
     ]
    }
   ],
   "source": [
    "def insertion_sort(arr):\n",
    "    n = len(arr)\n",
    "    for i in range(1, n):\n",
    "        key = arr[i]\n",
    "        # Use a for loop to find the correct position\n",
    "        pos = i\n",
    "        for j in range(i-1, -1, -1):\n",
    "            if arr[j] > key:\n",
    "                arr[j+1] = arr[j]  # shift element to the right\n",
    "                pos = j\n",
    "            else:\n",
    "                break\n",
    "        arr[pos] = key\n",
    "    return arr\n",
    "\n",
    "n = insertion_sort([1, 10, 20, 3, 4, 5, 6, 8])\n",
    "print(n)         "
   ]
  },
  {
   "cell_type": "code",
   "execution_count": 23,
   "id": "a34ab4ef",
   "metadata": {},
   "outputs": [
    {
     "name": "stdout",
     "output_type": "stream",
     "text": [
      "[20, 10, 8, 6, 5, 4, 3, 1]\n"
     ]
    }
   ],
   "source": [
    "def insertion_sort(arr):\n",
    "    n = len(arr)\n",
    "    for i in range(1, n):\n",
    "        key = arr[i]\n",
    "        # Use a for loop to find the correct position\n",
    "        pos = i\n",
    "        for j in range(i-1, -1, -1):\n",
    "            if arr[j] < key:\n",
    "                arr[j+1] = arr[j]  # shift element to the right\n",
    "                pos = j\n",
    "            else:\n",
    "                break\n",
    "        arr[pos] = key\n",
    "    return arr\n",
    "\n",
    "n = insertion_sort([1, 10, 20, 3, 4, 5, 6, 8])\n",
    "print(n)"
   ]
  },
  {
   "cell_type": "markdown",
   "id": "ecda1a0b",
   "metadata": {},
   "source": [
    "#### right rotate an array by k place"
   ]
  },
  {
   "cell_type": "code",
   "execution_count": 24,
   "id": "0f1f02a5",
   "metadata": {},
   "outputs": [
    {
     "name": "stdout",
     "output_type": "stream",
     "text": [
      "how many times u want to rotate the array:3\n",
      "[2, 3, 4, 5, 6, 8]\n"
     ]
    }
   ],
   "source": [
    "# brute force approach \n",
    "'''using approach like firstly poping the element and then inerting at the zeroth position '''\n",
    "\n",
    "nums =[5,6,8,2,3,4]\n",
    "k=int(input('how many times u want to rotate the array:'))\n",
    "for _ in range(0,k):\n",
    "    poped_ele=nums.pop()\n",
    "    nums.insert(0,poped_ele)\n",
    "print(nums)\n",
    "\n",
    "#time:O(r*N)\n",
    "#space:O(1)"
   ]
  },
  {
   "cell_type": "code",
   "execution_count": 25,
   "id": "a0689c0a",
   "metadata": {},
   "outputs": [
    {
     "name": "stdout",
     "output_type": "stream",
     "text": [
      "how many times u want to rotate:3\n",
      "[2, 3, 1, 5, 6, 8, 7, 9]\n"
     ]
    }
   ],
   "source": [
    "#better approach\n",
    "'''using the slicing'''\n",
    "nums = [5,6,8,7,9,2,3,1]\n",
    "n=len(nums)\n",
    "k=int(input('how many times u want to rotate:'))\n",
    "nums[:]=nums[n-k:]+nums[:n-k]\n",
    "print(nums)"
   ]
  },
  {
   "cell_type": "code",
   "execution_count": 26,
   "id": "8265aed4",
   "metadata": {},
   "outputs": [
    {
     "name": "stdout",
     "output_type": "stream",
     "text": [
      "how many times u want to rotate3\n",
      "[5, 6, 8, 7, 9, 1, 3, 2]\n",
      "[9, 7, 8, 6, 5, 1, 3, 2]\n",
      "[2, 3, 1, 5, 6, 8, 7, 9]\n"
     ]
    }
   ],
   "source": [
    "#optimal approach can be done implemented in any language\n",
    "nums =[5,6,8,7,9,2,3,1]\n",
    "n=len(nums)\n",
    "k=int(input('how many times u want to rotate'))\n",
    "\n",
    "def reverse(nums,left,right):\n",
    "    while left<right:\n",
    "        nums[left],nums[right]=nums[right],nums[left]\n",
    "        left+=1\n",
    "        right-=1\n",
    "    print(nums)\n",
    "reverse(nums,n-k,n-1) # first reverse last k element \n",
    "reverse(nums,0,n-k-1) # reverse remaining element\n",
    "reverse(nums,0,n-1) # then reverse whole array"
   ]
  },
  {
   "cell_type": "markdown",
   "id": "611741c3",
   "metadata": {},
   "source": [
    "#### move zeros to the end"
   ]
  },
  {
   "cell_type": "code",
   "execution_count": 27,
   "id": "f00bd195",
   "metadata": {},
   "outputs": [
    {
     "name": "stdout",
     "output_type": "stream",
     "text": [
      "[5, 6, 2, 1, 3, 0, 0, 0]\n"
     ]
    }
   ],
   "source": [
    "# brute force approch\n",
    "nums = [5,6,0,2,0,1,3,0]\n",
    "for i in range(len(nums)):\n",
    "    if nums[i] == 0:\n",
    "        ele = nums.pop(i)\n",
    "        nums.append(ele)\n",
    "    else:\n",
    "        continue\n",
    "print(nums)"
   ]
  },
  {
   "cell_type": "code",
   "execution_count": 28,
   "id": "4a76f0ef",
   "metadata": {},
   "outputs": [],
   "source": [
    "# optimal \n",
    "nums = [5,6,0,2,0,1,3,0]\n",
    "def move(nums):\n",
    "    if len(nums)==1:\n",
    "        return \n",
    "    i=0\n",
    "    while i<len(nums):\n",
    "        if nums[i]==0:\n",
    "            break\n",
    "        i+=1\n",
    "    if i==len(nums):\n",
    "        return \n",
    "    j=i+1\n",
    "    while j<len(nums):\n",
    "        if nums[j]!=0:\n",
    "            nums[i],nums[j]=nums[j],nums[i]\n",
    "            i+=1\n",
    "    j+=1\n",
    "    return nums\n",
    "\n",
    "# time : O(n)\n",
    "#space : O(1)"
   ]
  },
  {
   "cell_type": "markdown",
   "id": "3d762321",
   "metadata": {},
   "source": [
    "##### all substring of a given string "
   ]
  },
  {
   "cell_type": "code",
   "execution_count": 29,
   "id": "c4b7f78e",
   "metadata": {},
   "outputs": [
    {
     "name": "stdout",
     "output_type": "stream",
     "text": [
      "a\n",
      "ab\n",
      "abc\n",
      "b\n",
      "bc\n",
      "c\n"
     ]
    }
   ],
   "source": [
    "'''by using slicing'''\n",
    "def substr(str):\n",
    "    n=len(str)\n",
    "    for i in range(n):\n",
    "        for j in range(i+1,n+1):\n",
    "            print(str[i:j])\n",
    "sample = 'abc'\n",
    "substr(sample)\n",
    "\n",
    "#time :O(n*2)\n",
    "#space :O(1)"
   ]
  },
  {
   "cell_type": "markdown",
   "id": "217c976d",
   "metadata": {},
   "source": [
    "##### find missing no in array"
   ]
  },
  {
   "cell_type": "code",
   "execution_count": 1,
   "id": "8beb1c32",
   "metadata": {},
   "outputs": [
    {
     "name": "stdout",
     "output_type": "stream",
     "text": [
      "2\n"
     ]
    }
   ],
   "source": [
    "#approach 1\n",
    "nums = [1 , 0 ,3]\n",
    "for i in range(len(nums)):\n",
    "    if i not in nums:\n",
    "        print(i)\n",
    "'''tc:O(n*2)\n",
    "sc:O(1)'''"
   ]
  },
  {
   "cell_type": "code",
   "execution_count": 2,
   "id": "9d2cf164",
   "metadata": {},
   "outputs": [
    {
     "name": "stdout",
     "output_type": "stream",
     "text": [
      "2.0\n"
     ]
    }
   ],
   "source": [
    "# optimal\n",
    "def missing(nums):\n",
    "    n=len(nums)\n",
    "    return n*(n+1)/2-sum(nums)\n",
    "\n",
    "res=missing([1,0,3])\n",
    "print(res)"
   ]
  },
  {
   "cell_type": "markdown",
   "id": "a59d2889",
   "metadata": {},
   "source": [
    "##### maximum consecutive ones in array"
   ]
  },
  {
   "cell_type": "code",
   "execution_count": 3,
   "id": "da047ebd",
   "metadata": {},
   "outputs": [
    {
     "name": "stdout",
     "output_type": "stream",
     "text": [
      "4\n"
     ]
    }
   ],
   "source": [
    "nums = [1 , 1 , 0 ,1,0 ,1,1,1,1,0,1,1,1]\n",
    "count = 0\n",
    "max_count =0\n",
    "n=len(nums)\n",
    "for i in range(n):\n",
    "    if nums[i]==1:\n",
    "        count+=1\n",
    "    else:\n",
    "        max_count=max(max_count,count)\n",
    "        count=0\n",
    "print(max(max_count,count))\n",
    "    \n"
   ]
  },
  {
   "cell_type": "markdown",
   "id": "1ae4ef5f",
   "metadata": {},
   "source": [
    "##### Valid Anagram"
   ]
  },
  {
   "cell_type": "code",
   "execution_count": 1,
   "id": "898e8d08",
   "metadata": {},
   "outputs": [
    {
     "name": "stdout",
     "output_type": "stream",
     "text": [
      "True\n"
     ]
    }
   ],
   "source": [
    "s='anagram'\n",
    "t='nagaram'\n",
    "\n",
    "def validanagram(s,t):\n",
    "    if sorted(s) == sorted(t):\n",
    "        print(True)\n",
    "\n",
    "\n",
    "validanagram(s,t)\n",
    "'''but this is not the good approach here tc will be O(nlogn)'''"
   ]
  },
  {
   "cell_type": "code",
   "execution_count": 9,
   "id": "4df2c746",
   "metadata": {},
   "outputs": [
    {
     "name": "stdout",
     "output_type": "stream",
     "text": [
      "True\n"
     ]
    }
   ],
   "source": [
    "# using hashmap\n",
    "s='anagram'\n",
    "t='nagaram'\n",
    "\n",
    "def validanagram(s,t):\n",
    "    if len(s)!=len(t): # checking either the length is equal or not\n",
    "        print(False)\n",
    "    has_s={}\n",
    "    for i in range(len(s)):\n",
    "        has_s[s[i]]=has_s.get(s[i],0)+1\n",
    "    \n",
    "    has_t={}\n",
    "    for i in range(len(s)):\n",
    "        has_t[t[i]]=has_t.get(t[i],0)+1\n",
    "        \n",
    "    if has_s.keys()!=has_t.keys(): # this is to check whether the keys of both hashmaps are same or not but they can differ in feq\n",
    "        print(False)\n",
    "        \n",
    "    for i in has_s.keys(): # this is to check whether the frequency of all keys are same or not \n",
    "        if has_s[i] != has_t[i]:\n",
    "            print(False)\n",
    "    \n",
    "    print(True)\n",
    "        \n",
    "    \n",
    "\n",
    "validanagram(s,t)\n",
    "'''time complexity :O(n)\n",
    "'''"
   ]
  },
  {
   "cell_type": "markdown",
   "id": "a28c79b8",
   "metadata": {},
   "source": [
    "##### Two sum Problem "
   ]
  },
  {
   "cell_type": "code",
   "execution_count": 15,
   "id": "fd1ef607",
   "metadata": {},
   "outputs": [
    {
     "name": "stdout",
     "output_type": "stream",
     "text": [
      "{2: 0, 7: 1, 11: 2, 9: 3}\n",
      "[1, 2]\n",
      "[2, 1]\n"
     ]
    }
   ],
   "source": [
    "# solve this in less than O(n*2)\n",
    "nums = [2,7,11,9]\n",
    "target = 18\n",
    "\n",
    "def two_sum(nums,target):\n",
    "    hash_map = {}\n",
    "    for i in range(len(nums)):\n",
    "        hash_map[nums[i]] = i\n",
    "    print(hash_map)\n",
    "    \n",
    "    for i in range(len(nums)):\n",
    "        diff = target-nums[i] \n",
    "        if diff in hash_map and hash_map[diff]!=i:\n",
    "            print([i,hash_map[diff]])\n",
    "        \n",
    "two_sum(nums,target)\n",
    "# tc:O(n)\n",
    "#sc:O(1)"
   ]
  },
  {
   "cell_type": "markdown",
   "id": "f0bba800",
   "metadata": {},
   "source": [
    "#### two sum (II) problem -> array is sorted"
   ]
  },
  {
   "cell_type": "code",
   "execution_count": 17,
   "id": "5fb21cb7",
   "metadata": {},
   "outputs": [
    {
     "name": "stdout",
     "output_type": "stream",
     "text": [
      "[1, 2]\n"
     ]
    }
   ],
   "source": [
    "'''nums = [2,7,11,9]  , target =9 then we have to return [1,2]'''\n",
    "\n",
    "def twoII(nums,target):\n",
    "    i,j=0,len(nums)-1\n",
    "    while i<j:\n",
    "        if nums[i]+nums[j]>target:\n",
    "            j-=1\n",
    "        elif nums[i]+nums[j]<target:\n",
    "            i+=1\n",
    "        else:\n",
    "            return [i+1,j+1]\n",
    "            \n",
    "            \n",
    "nums = [2,7,11,9]\n",
    "target = 9\n",
    "res = twoII(nums,target)\n",
    "print(res)"
   ]
  },
  {
   "cell_type": "markdown",
   "id": "21ad1c31",
   "metadata": {},
   "source": [
    "#### Reverse an array without using reversed()"
   ]
  },
  {
   "cell_type": "code",
   "execution_count": 19,
   "id": "f3535fa7",
   "metadata": {},
   "outputs": [
    {
     "name": "stdout",
     "output_type": "stream",
     "text": [
      "original array ->  [2, 7, 11, 9]\n",
      "reversed array -> [9, 11, 7, 2]\n"
     ]
    }
   ],
   "source": [
    "nums = [2,7,11,9]\n",
    "print('original array -> ',nums)\n",
    "i=0\n",
    "j=len(nums)-1\n",
    "\n",
    "while i<j:\n",
    "    nums[i],nums[j] = nums[j],nums[i]\n",
    "    i+=1\n",
    "    j-=1\n",
    "print('reversed array ->',nums)\n",
    "    "
   ]
  }
 ],
 "metadata": {
  "kernelspec": {
   "display_name": "Python 3 (ipykernel)",
   "language": "python",
   "name": "python3"
  },
  "language_info": {
   "codemirror_mode": {
    "name": "ipython",
    "version": 3
   },
   "file_extension": ".py",
   "mimetype": "text/x-python",
   "name": "python",
   "nbconvert_exporter": "python",
   "pygments_lexer": "ipython3",
   "version": "3.11.5"
  }
 },
 "nbformat": 4,
 "nbformat_minor": 5
}
