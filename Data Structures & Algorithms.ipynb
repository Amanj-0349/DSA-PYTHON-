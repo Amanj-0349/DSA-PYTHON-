{
 "cells": [
  {
   "cell_type": "markdown",
   "id": "59bdb708",
   "metadata": {},
   "source": [
    "##### count the no of digits - 5873 \n",
    "---- then count should be 4"
   ]
  },
  {
   "cell_type": "code",
   "execution_count": 1,
   "id": "86cc2a87",
   "metadata": {},
   "outputs": [
    {
     "name": "stdout",
     "output_type": "stream",
     "text": [
      "4\n"
     ]
    }
   ],
   "source": [
    "'''for this problem my approach would be extraction of the digits\n",
    "like n=5873\n",
    "\n",
    "take num = n\n",
    "then if i do num//10 it would give me 587 and if i do it so on finally i would get 0\n",
    "while doing this i will count how many times the loop runs\n",
    "'''\n",
    "\n",
    "n=5873\n",
    "count = 0\n",
    "num = n\n",
    "while num>0:\n",
    "    count+=1\n",
    "    num =num //10  # i have used this to extract the integer part like 587,58,5\n",
    "print(count)\n",
    "\n",
    "# time complexity : O(log10(n))\n",
    "# space complexity : O(1)\n",
    "    "
   ]
  },
  {
   "cell_type": "code",
   "execution_count": 2,
   "id": "5bf1accf",
   "metadata": {},
   "outputs": [
    {
     "name": "stdout",
     "output_type": "stream",
     "text": [
      "4\n"
     ]
    }
   ],
   "source": [
    "# Another way to solve this \n",
    "from math import *\n",
    "print(int(log10(5873)+1))"
   ]
  },
  {
   "cell_type": "markdown",
   "id": "6bb0ecd5",
   "metadata": {},
   "source": [
    "##### check palindrome (from both side if i read it would be same) -1234 "
   ]
  },
  {
   "cell_type": "code",
   "execution_count": 3,
   "id": "372dd72a",
   "metadata": {},
   "outputs": [
    {
     "name": "stdout",
     "output_type": "stream",
     "text": [
      "The given no is palindrome\n"
     ]
    }
   ],
   "source": [
    "'''for this question we can first convert the given integer into the string but this is not the best\n",
    "way to do it \n",
    "\n",
    "so for this we use digit extraction method \n",
    "'''\n",
    "n = 121\n",
    "num = n\n",
    "res = 0\n",
    "while num >0:\n",
    "    id = num % 10 \n",
    "    res = res*10 + id\n",
    "    num = num //10\n",
    "    \n",
    "if  n == res:\n",
    "    print('The given no is palindrome')\n",
    "else:\n",
    "    print('not a palindrone')\n",
    "    \n",
    "# time complexity : O(log10(n))\n",
    "# space complexity : O(1)"
   ]
  },
  {
   "cell_type": "markdown",
   "id": "cf86eb6e",
   "metadata": {},
   "source": [
    "##### check whether the no is armstrong or not \n",
    "--- like 153 - 1^3+5^3+3^3 = 1+125+27 = 153 "
   ]
  },
  {
   "cell_type": "code",
   "execution_count": 4,
   "id": "32e50144",
   "metadata": {},
   "outputs": [
    {
     "name": "stdout",
     "output_type": "stream",
     "text": [
      "the no is armstrong\n"
     ]
    }
   ],
   "source": [
    "''' the same method i have used here extraction of digit '''\n",
    "\n",
    "n = 153\n",
    "num  = n\n",
    "res = 0\n",
    "while num>0:\n",
    "    id= num % 10 \n",
    "    res = res + id**3\n",
    "    num = num //10\n",
    "if res == n:\n",
    "    print('the no is armstrong')\n",
    "else:\n",
    "    print('not a armstrong no')\n",
    "\n",
    "    ''' but this method is not suitable for no like 1634 so its no the correct approach'''"
   ]
  },
  {
   "cell_type": "code",
   "execution_count": 5,
   "id": "d4bcff7e",
   "metadata": {},
   "outputs": [
    {
     "name": "stdout",
     "output_type": "stream",
     "text": [
      "the no is armstrong no\n"
     ]
    }
   ],
   "source": [
    "n = 1634\n",
    "num =n \n",
    "total = 0\n",
    "l = len(str(n))\n",
    "'''by calculating the length of the given no we can optimze our code '''\n",
    "while num >0:\n",
    "    id=num %10\n",
    "    total = total +id**l\n",
    "    num = num //10\n",
    "if total == n:\n",
    "    print(\"the no is armstrong no\")\n",
    "else:\n",
    "    print('not a armstrong no')\n",
    "\n",
    "    ''' time complexity : O(log10(n))\n",
    "    space complexity : O(1)\n",
    "    '''"
   ]
  },
  {
   "cell_type": "markdown",
   "id": "ba96ab16",
   "metadata": {},
   "source": [
    "##### PRINT ALL THE FACTORS OF A GIVEN NUMBER \n",
    "--- 36 = [1,2,3,4,6,9,12,18,36]"
   ]
  },
  {
   "cell_type": "code",
   "execution_count": 6,
   "id": "f442c328",
   "metadata": {},
   "outputs": [
    {
     "name": "stdout",
     "output_type": "stream",
     "text": [
      "[1, 2, 3, 4, 6, 9, 12, 18, 36]\n"
     ]
    },
    {
     "data": {
      "text/plain": [
       "'time compl : O(n) \\nspace compl: O(k) because we used extra space'"
      ]
     },
     "execution_count": 6,
     "metadata": {},
     "output_type": "execute_result"
    }
   ],
   "source": [
    "'''first approach '''\n",
    "n= 36\n",
    "num = n\n",
    "res = []\n",
    "for i in range(1,num+1):\n",
    "    if num % i == 0:\n",
    "        res.append(i)\n",
    "print(res)\n",
    "\n",
    "'''time compl : O(n) \n",
    "space compl: O(k) because we used extra space'''"
   ]
  },
  {
   "cell_type": "code",
   "execution_count": 7,
   "id": "1f890fd7",
   "metadata": {},
   "outputs": [
    {
     "name": "stdout",
     "output_type": "stream",
     "text": [
      "[1, 2, 3, 4, 6, 9, 12, 36]\n"
     ]
    },
    {
     "data": {
      "text/plain": [
       "'time comple: O(n/2) or O(n) bcz we can ignore the constant 1/2 \\nspace compl : O(k) using extra space'"
      ]
     },
     "execution_count": 7,
     "metadata": {},
     "output_type": "execute_result"
    }
   ],
   "source": [
    "'''better approach  - we know that the factors of any no will lie before its halfed value or that no itself'''\n",
    "\n",
    "n=36\n",
    "num =n\n",
    "res = []\n",
    "for i in range(1,num//2):\n",
    "    if num %i==0:\n",
    "        res.append(i)\n",
    "res.append(n)\n",
    "print(res)\n",
    "\n",
    "'''time comple: O(n/2) or O(n) bcz we can ignore the constant 1/2 \n",
    "space compl : O(k) using extra space'''\n"
   ]
  },
  {
   "cell_type": "markdown",
   "id": "0cc381a8",
   "metadata": {},
   "source": [
    "##### frequency map dictionary  [METHOD THAT WE ARE USING FOR MULTIPLE QUESTION ]"
   ]
  },
  {
   "cell_type": "code",
   "execution_count": 8,
   "id": "71d58367",
   "metadata": {},
   "outputs": [
    {
     "name": "stdout",
     "output_type": "stream",
     "text": [
      "{6: 4, 7: 1, 1: 4, 2: 2, 5: 2, 8: 2}\n"
     ]
    },
    {
     "data": {
      "text/plain": [
       "'time compl : O(n)\\nspace compl : O(n) '"
      ]
     },
     "execution_count": 8,
     "metadata": {},
     "output_type": "execute_result"
    }
   ],
   "source": [
    "nums = [5 , 6 , 6 , 7 , 1 ,  2 , 2 , 6 , 5 , 1 , 1 ,5 , 6 , 8 , 1, 8]\n",
    "\n",
    "freq = dict()\n",
    "for i in range(1,len(nums)):\n",
    "    if nums[i] in freq :\n",
    "        freq[nums[i]]+=1\n",
    "    else:\n",
    "        freq[nums[i]]=1\n",
    "print(freq)\n",
    "\n",
    "'''time compl : O(n)\n",
    "space compl : O(n) '''"
   ]
  },
  {
   "cell_type": "code",
   "execution_count": 9,
   "id": "d2b87227",
   "metadata": {},
   "outputs": [
    {
     "name": "stdout",
     "output_type": "stream",
     "text": [
      "{6: 4, 7: 1, 1: 4, 2: 2, 5: 2, 8: 2}\n"
     ]
    },
    {
     "data": {
      "text/plain": [
       "'time and space complexity will  be O(n)'"
      ]
     },
     "execution_count": 9,
     "metadata": {},
     "output_type": "execute_result"
    }
   ],
   "source": [
    "''' here is one more optimal approach that we are using evertime when we are working on freq'''\n",
    "nums = [5 , 6 , 6 , 7 , 1 ,  2 , 2 , 6 , 5 , 1 , 1 ,5 , 6 , 8 , 1, 8]\n",
    "\n",
    "hash_map = dict()\n",
    "for i in range(1,len(nums)):\n",
    "    hash_map[nums[i]] = hash_map.get(nums[i],0)+1\n",
    "print(hash_map)\n",
    "\n",
    "'''time and space complexity will  be O(n)'''"
   ]
  },
  {
   "cell_type": "markdown",
   "id": "4f1b9d8e",
   "metadata": {},
   "source": [
    "#####  find factorial of a given number "
   ]
  },
  {
   "cell_type": "code",
   "execution_count": 10,
   "id": "0ca5b0de",
   "metadata": {},
   "outputs": [
    {
     "name": "stdout",
     "output_type": "stream",
     "text": [
      "120\n"
     ]
    }
   ],
   "source": [
    "# 5! = 5*4*3*2*1 = 120\n",
    "\n",
    "def fact(n):\n",
    "    fact =1\n",
    "    if n==0 or n==1:\n",
    "        return 1\n",
    "    for i in range(1,n+1):\n",
    "        fact = fact * i\n",
    "    return fact\n",
    "ans = fact(5)\n",
    "print(ans)      "
   ]
  },
  {
   "cell_type": "code",
   "execution_count": 11,
   "id": "02ba2f51",
   "metadata": {},
   "outputs": [
    {
     "name": "stdout",
     "output_type": "stream",
     "text": [
      "120\n"
     ]
    },
    {
     "data": {
      "text/plain": [
       "'time compl = O(n)\\nspace compl : O(n) bcz using stack space'"
      ]
     },
     "execution_count": 11,
     "metadata": {},
     "output_type": "execute_result"
    }
   ],
   "source": [
    "'''doing this with the help of recursion '''\n",
    "def fact(n):\n",
    "    if n==0 or n==1:\n",
    "        return 1\n",
    "    return n * fact(n-1)\n",
    "ans = fact(5)\n",
    "print(ans)\n",
    "\n",
    "'''time compl = O(n)\n",
    "space compl : O(n) bcz using stack space'''"
   ]
  },
  {
   "cell_type": "markdown",
   "id": "ffa988d9",
   "metadata": {},
   "source": [
    "#### reverse an array using recursion \n",
    "--- [5 7 8 9 2 ] - [2 9 8 7 5] \n",
    "###### left index = 1\n",
    "###### right index = 3"
   ]
  },
  {
   "cell_type": "code",
   "execution_count": null,
   "id": "2c1b6642",
   "metadata": {},
   "outputs": [],
   "source": []
  },
  {
   "cell_type": "markdown",
   "id": "dbe37273",
   "metadata": {},
   "source": [
    "#### check if a string is palindrone or not "
   ]
  },
  {
   "cell_type": "code",
   "execution_count": 12,
   "id": "c7c259a0",
   "metadata": {},
   "outputs": [
    {
     "name": "stdout",
     "output_type": "stream",
     "text": [
      "its palindrone\n"
     ]
    }
   ],
   "source": [
    "# doing through slicing\n",
    "def pal(s):\n",
    "    v=s[::-1]\n",
    "    if s==v:\n",
    "        print('its palindrone')\n",
    "pal('nitin')"
   ]
  },
  {
   "cell_type": "code",
   "execution_count": 8,
   "id": "81720153",
   "metadata": {},
   "outputs": [
    {
     "data": {
      "text/plain": [
       "True"
      ]
     },
     "execution_count": 8,
     "metadata": {},
     "output_type": "execute_result"
    }
   ],
   "source": [
    "def fun(s,l,r):\n",
    "    if l>=r:\n",
    "        return True\n",
    "    if s[l]!=s[r]:\n",
    "        return False\n",
    "    return fun(s,l+1,r-1)\n",
    "        \n",
    "s='nitin'\n",
    "r=len(s)-1\n",
    "l=0\n",
    "fun(s,l,r)\n",
    "# time : O(n) , space : O(1)"
   ]
  },
  {
   "cell_type": "markdown",
   "id": "6cc89896",
   "metadata": {},
   "source": [
    "#### find the fibonacci number using recursion"
   ]
  },
  {
   "cell_type": "code",
   "execution_count": 11,
   "id": "13240bcb",
   "metadata": {},
   "outputs": [
    {
     "name": "stdout",
     "output_type": "stream",
     "text": [
      "8\n"
     ]
    }
   ],
   "source": [
    "'''0 1 1 2 3 5 8 13 21 34....\n",
    " base idea h f(0),f(1) - 0,1\n",
    " recursive idea h ki f(n) = f(n-1)+f(n-2)'''\n",
    "\n",
    "def fibo(n):\n",
    "    if n ==0 or n==1:\n",
    "        return n\n",
    "    return fibo(n-1)+fibo(n-2)\n",
    "res = fibo(6)\n",
    "print(res)\n",
    "\n",
    "# time compl : O(2^n)\n",
    "# space compl : O(2^n)\n",
    "#sbse pehle n-1 vala solve hoga "
   ]
  },
  {
   "cell_type": "markdown",
   "id": "a4a1bb99",
   "metadata": {},
   "source": [
    "##### find the largest element in the array"
   ]
  },
  {
   "cell_type": "code",
   "execution_count": 13,
   "id": "16338764",
   "metadata": {},
   "outputs": [
    {
     "name": "stdout",
     "output_type": "stream",
     "text": [
      "the largest element is : 56\n"
     ]
    }
   ],
   "source": [
    "arr = [1,25,23,14,56,-73]\n",
    "lar = 0\n",
    "for i in arr:\n",
    "    if i>lar:\n",
    "        lar=i\n",
    "print('the largest element is :',lar)"
   ]
  },
  {
   "cell_type": "markdown",
   "id": "e628d1b6",
   "metadata": {},
   "source": [
    "##### find the second largest element in the array"
   ]
  },
  {
   "cell_type": "code",
   "execution_count": 20,
   "id": "848ac855",
   "metadata": {},
   "outputs": [
    {
     "name": "stdout",
     "output_type": "stream",
     "text": [
      "25\n"
     ]
    }
   ],
   "source": [
    "# brute force approach\n",
    "arr = [1,25,23,14,56,-73]\n",
    "arr.sort()\n",
    "print(arr[-2])\n",
    "\n",
    "# timecomplexity - O(nlogn) bcz sort ka hota h nlogn\n",
    "# space complexity - O(1)"
   ]
  },
  {
   "cell_type": "code",
   "execution_count": null,
   "id": "0fba5b13",
   "metadata": {},
   "outputs": [],
   "source": [
    "# optimal approach"
   ]
  },
  {
   "cell_type": "markdown",
   "id": "48aec366",
   "metadata": {},
   "source": [
    "##### check if the array is sorted or not"
   ]
  },
  {
   "cell_type": "code",
   "execution_count": 21,
   "id": "6a1ffcf4",
   "metadata": {},
   "outputs": [
    {
     "data": {
      "text/plain": [
       "True"
      ]
     },
     "execution_count": 21,
     "metadata": {},
     "output_type": "execute_result"
    }
   ],
   "source": [
    "arr = [1,2,3,4,5,6,7,8]\n",
    "\n",
    "def check(arr):\n",
    "    n=len(arr)\n",
    "    for i in range(0,n-1):\n",
    "        if arr[i]>arr[i+1]:\n",
    "            return False\n",
    "    return True\n",
    "\n",
    "check(arr)\n",
    "\n",
    "# time : O(n)\n",
    "# space : O(1)"
   ]
  },
  {
   "cell_type": "markdown",
   "id": "c019ab67",
   "metadata": {},
   "source": [
    "##### remove duplicates from the sorted array"
   ]
  },
  {
   "cell_type": "code",
   "execution_count": null,
   "id": "db62eb5e",
   "metadata": {},
   "outputs": [],
   "source": [
    "arr = [1,1,2,2,3,3,4,5,5,4,6,5]\n"
   ]
  },
  {
   "cell_type": "code",
   "execution_count": null,
   "id": "15c5e797",
   "metadata": {},
   "outputs": [],
   "source": []
  },
  {
   "cell_type": "code",
   "execution_count": null,
   "id": "03fca674",
   "metadata": {},
   "outputs": [],
   "source": []
  }
 ],
 "metadata": {
  "kernelspec": {
   "display_name": "Python 3 (ipykernel)",
   "language": "python",
   "name": "python3"
  },
  "language_info": {
   "codemirror_mode": {
    "name": "ipython",
    "version": 3
   },
   "file_extension": ".py",
   "mimetype": "text/x-python",
   "name": "python",
   "nbconvert_exporter": "python",
   "pygments_lexer": "ipython3",
   "version": "3.11.5"
  }
 },
 "nbformat": 4,
 "nbformat_minor": 5
}
